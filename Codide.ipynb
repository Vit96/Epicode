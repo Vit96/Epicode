{
 "cells": [
  {
   "cell_type": "code",
   "execution_count": null,
   "metadata": {},
   "outputs": [],
   "source": [
    "import pandas as pd\n",
    "\n",
    "file = '/Users/manuelisidori/Desktop/Epicode/Python/Esercizi_python/Esercitazione_finale/Database_COVID_esercitazione_finale'\n",
    "df = pd.read_csv(file, \n",
    "                delimiter = \",\",\n",
    "                encoding = \"latin1\")\n",
    "\n",
    "covid = pd.DataFrame(df)\n",
    "\n",
    "covid"
   ]
  },
  {
   "cell_type": "code",
   "execution_count": null,
   "metadata": {},
   "outputs": [],
   "source": [
    "# verificare le dimensioni del dataset\n",
    "\n",
    "\n",
    "\n",
    "\n",
    "import pandas as pd\n",
    "\n",
    "file = '/Users/manuelisidori/Desktop/Epicode/Python/Esercizi_python/Esercitazione_finale/Database_COVID_esercitazione_finale'\n",
    "df = pd.read_csv(file, \n",
    "                delimiter = \",\",\n",
    "                encoding = \"latin1\")\n",
    "\n",
    "covid = pd.DataFrame(df)\n",
    "\n",
    "covid.shape"
   ]
  },
  {
   "cell_type": "code",
   "execution_count": null,
   "metadata": {},
   "outputs": [],
   "source": [
    "# verificare le diciture presenti nell'intestazione\n",
    "\n",
    "\n",
    "\n",
    "\n",
    "import pandas as pd\n",
    "\n",
    "file = '/Users/manuelisidori/Desktop/Epicode/Python/Esercizi_python/Esercitazione_finale/Database_COVID_esercitazione_finale'\n",
    "df = pd.read_csv(file, \n",
    "                delimiter = \",\",\n",
    "                encoding = \"latin1\")\n",
    "\n",
    "covid = pd.DataFrame(df)\n",
    "\n",
    "intestazioni = covid.columns\n",
    "\n",
    "print(\"Le intestazioni del dataset sono:\")\n",
    "\n",
    "for intestazione in intestazioni:\n",
    "    print(intestazione)"
   ]
  },
  {
   "cell_type": "code",
   "execution_count": null,
   "metadata": {},
   "outputs": [],
   "source": [
    "# Si chiede poi per ogni continente di trovare il numero di casi totali avvenuti in quello stesso continente.\n",
    "# si chiede di non considerare eventuali locazioni che nel dataset non appartengono ad alcun continente.\n",
    "\n",
    "\n",
    "\n",
    "\n",
    "import pandas as pd\n",
    "\n",
    "file = '/Users/manuelisidori/Desktop/Epicode/Python/Esercizi_python/Esercitazione_finale/Database_COVID_esercitazione_finale'\n",
    "df = pd.read_csv(file, \n",
    "                delimiter = \",\",\n",
    "                encoding = \"latin1\")\n",
    "\n",
    "covid = pd.DataFrame(df)\n",
    "\n",
    "Casi_totali_continente_location = df.groupby(['continent','location'])['total_cases'].max()\n",
    "\n",
    "Casi_totali_per_continente = Casi_totali_continente_location.groupby('continent').sum()\n",
    "\n",
    "\n",
    "print(Casi_totali_per_continente)\n"
   ]
  },
  {
   "cell_type": "code",
   "execution_count": null,
   "metadata": {},
   "outputs": [],
   "source": [
    "# Sempre riguardo i casi di COVID totali, si chiede di sviluppare una funzione che prenda in input il dataset e due nomi di continenti, \n",
    "# e che ne confronti i seguenti relativi descrittori statistici: valori minimo e massimo, media, e percentuale rispetto al numero dei casi totali nel mondo \n",
    "# (in questo caso calcolati anche sulle locazioni senza indicazione di continente)\n",
    "\n",
    "\n",
    "\n",
    "\n",
    "\n",
    "import pandas as pd\n",
    "\n",
    "file = '/Users/manuelisidori/Desktop/Epicode/Python/Esercizi_python/Esercitazione_finale/Database_COVID_esercitazione_finale'\n",
    "df = pd.read_csv(file, \n",
    "                delimiter = \",\",\n",
    "                encoding = \"latin1\")\n",
    "\n",
    "covid = pd.DataFrame(df)\n",
    "\n",
    "continente1 = 'Europe'\n",
    "\n",
    "df_continente1 = df[\"location\"] == continente1\n",
    "df_cont1 = df[df_continente1]\n",
    "\n",
    "descrittore_continente1 = {\n",
    "        'Minimo': df_cont1['total_cases'].min(),\n",
    "        'Massimo': df_cont1['total_cases'].max(),\n",
    "        'Media': df_cont1['total_cases'].mean(),\n",
    "        'Percentuale del mondo' : (df_cont1['total_cases'].max() / df[df['location']== 'World']['total_cases'].max()) * 100}\n",
    "\n",
    "print(descrittore_continente1)"
   ]
  },
  {
   "cell_type": "code",
   "execution_count": 7,
   "metadata": {},
   "outputs": [
    {
     "name": "stdout",
     "output_type": "stream",
     "text": [
      "{'Minimo': 1.0, 'Massimo': 13130179.0, 'Media': 7998160.9363636365, 'Percentuale del mondo': 1.7032832350079468}\n"
     ]
    }
   ],
   "source": [
    "# il codice è lo stesso, ma ora ho messo l'input per poter selezionare ogni continente che si desidera\n",
    "\n",
    "\n",
    "\n",
    "\n",
    "\n",
    "import pandas as pd\n",
    "\n",
    "file = '/Users/manuelisidori/Desktop/Epicode/Python/Esercizi_python/Esercitazione_finale/Database_COVID_esercitazione_finale'\n",
    "df = pd.read_csv(file, \n",
    "                delimiter = \",\",\n",
    "                encoding = \"latin1\")\n",
    "\n",
    "covid = pd.DataFrame(df)\n",
    "\n",
    "continente = str(input('Scrivi il continente tra: Africa, Asia, Europe, North America, Oceania, South America'))\n",
    "df_continente = df[\"location\"] == continente\n",
    "df_cont1 = df[df_continente]\n",
    "\n",
    "descrittore_continente = {\n",
    "        'Minimo': df_cont1['total_cases'].min(),\n",
    "        'Massimo': df_cont1['total_cases'].max(),\n",
    "        'Media': df_cont1['total_cases'].mean(),\n",
    "        'Percentuale del mondo' : (df_cont1['total_cases'].max() / df[df['location']== 'World']['total_cases'].max()) * 100}\n",
    "\n",
    "print(descrittore_continente)"
   ]
  },
  {
   "cell_type": "code",
   "execution_count": 8,
   "metadata": {},
   "outputs": [
    {
     "name": "stdout",
     "output_type": "stream",
     "text": [
      "continent\n",
      "Africa           8.552693e+08\n",
      "Asia             9.068464e+09\n",
      "Europe           1.565629e+09\n",
      "North America    1.151797e+09\n",
      "Oceania          8.281834e+07\n",
      "South America    9.588905e+08\n",
      "Name: total_vaccinations, dtype: float64\n"
     ]
    }
   ],
   "source": [
    "# Si chiede poi di effettuare lo stesso tipo di analisi, anche in questo caso sviluppando una funzione ad hoc per il numero di vaccinazioni totali per ogni continente.\n",
    "\n",
    "\n",
    "\n",
    "\n",
    "import pandas as pd\n",
    "\n",
    "file = '/Users/manuelisidori/Desktop/Epicode/Python/Esercizi_python/Esercitazione_finale/Database_COVID_esercitazione_finale'\n",
    "df = pd.read_csv(file, \n",
    "                delimiter = \",\",\n",
    "                encoding = \"latin1\")\n",
    "\n",
    "covid = pd.DataFrame(df)\n",
    "\n",
    "Vaccinazioni_totali_continente_location = df.groupby(['continent','location'])['total_vaccinations'].max()\n",
    "\n",
    "Vaccinazioni_totali_per_continente = Vaccinazioni_totali_continente_location.groupby('continent').sum()\n",
    "\n",
    "print(Vaccinazioni_totali_per_continente)\n",
    "\n",
    "\n",
    "\n"
   ]
  },
  {
   "cell_type": "code",
   "execution_count": 12,
   "metadata": {},
   "outputs": [
    {
     "data": {
      "text/plain": [
       "'855,269,300.0'"
      ]
     },
     "execution_count": 12,
     "metadata": {},
     "output_type": "execute_result"
    }
   ],
   "source": [
    "f'{8.552693e+08 :,}'"
   ]
  },
  {
   "cell_type": "code",
   "execution_count": null,
   "metadata": {},
   "outputs": [],
   "source": [
    "f'{9.068464e+09 :,}'"
   ]
  },
  {
   "cell_type": "code",
   "execution_count": null,
   "metadata": {},
   "outputs": [],
   "source": [
    "f'{1.565629e+09 :,}'"
   ]
  },
  {
   "cell_type": "code",
   "execution_count": null,
   "metadata": {},
   "outputs": [],
   "source": [
    "f'{1.151797e+09 :,}'"
   ]
  },
  {
   "cell_type": "code",
   "execution_count": null,
   "metadata": {},
   "outputs": [],
   "source": [
    "f'{8.281834e+07 :,}'"
   ]
  },
  {
   "cell_type": "code",
   "execution_count": null,
   "metadata": {},
   "outputs": [],
   "source": [
    "f'{9.588905e+08 :,}'"
   ]
  },
  {
   "cell_type": "code",
   "execution_count": null,
   "metadata": {},
   "outputs": [],
   "source": [
    "# Alla fine, basandosi sui calcoli fatti, il committente chiede di stilare un breve (tre o quattro righe) paragrafo testuale riassuntivo sulle statistiche \n",
    "# di casi e vaccinazioni, che si concentri solo sulle differenze esistenti tra Europa, Sud America e Oceania.\n",
    "\n",
    "'''\n",
    "In base ai dati ottenuti dalle funzioni, è venuto fuori che in Europa il numero di casi di infezione è stato molto più alto rispetto agli altri due continenti.\n",
    "Inoltre in base al confronto sulle vaccinazioni effettuate, l'Europa mantiene ancora la percentuale maggiore sul totale.\n",
    "In Oceania invece, si registra il minor numero di infezioni, nonché un numero molto inferiore di vaccinazioni.\n",
    "'''"
   ]
  }
 ],
 "metadata": {
  "kernelspec": {
   "display_name": "Python 3",
   "language": "python",
   "name": "python3"
  },
  "language_info": {
   "codemirror_mode": {
    "name": "ipython",
    "version": 3
   },
   "file_extension": ".py",
   "mimetype": "text/x-python",
   "name": "python",
   "nbconvert_exporter": "python",
   "pygments_lexer": "ipython3",
   "version": "3.11.4"
  },
  "orig_nbformat": 4
 },
 "nbformat": 4,
 "nbformat_minor": 2
}
